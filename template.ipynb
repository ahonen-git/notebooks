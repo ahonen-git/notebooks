{
 "cells": [
  {
   "cell_type": "markdown",
   "metadata": {},
   "source": [
    "# Python template"
   ]
  },
  {
   "cell_type": "markdown",
   "metadata": {},
   "source": [
    "## Load libraries"
   ]
  },
  {
   "cell_type": "code",
   "execution_count": null,
   "metadata": {
    "collapsed": false
   },
   "outputs": [],
   "source": [
    "%pylab inline\n",
    "\n",
    "import os\n",
    "import _iso\n",
    "import numpy as np\n",
    "import numpy.ma as ma\n",
    "from mpl_toolkits.basemap import Basemap, shiftgrid\n",
    "from matplotlib.mlab import griddata\n",
    "import matplotlib.colors as colors\n",
    "from scipy.signal import medfilt2d\n",
    "import netCDF4\n",
    "import scipy.interpolate\n",
    "from pandas import Series, DataFrame\n",
    "import pandas as pd\n",
    "\n",
    "import pyroms\n",
    "import pyroms_toolbox\n",
    "from bathy_smoother import *\n",
    "\n",
    "os.environ[\"PYTHONPATH\"] = \"/Users/misumi/python:/usr/local/lib/python2.7/site-packages\"\n",
    "os.environ[\"PYROMS\"] = \"$PYTHONPATH/pyroms\"\n",
    "os.environ[\"PYROMS_GRIDID_FILE\"] = \"/Users/misumi/roms_data/gridid.txt\""
   ]
  },
  {
   "cell_type": "markdown",
   "metadata": {},
   "source": [
    "## Set font"
   ]
  },
  {
   "cell_type": "code",
   "execution_count": null,
   "metadata": {
    "collapsed": true
   },
   "outputs": [],
   "source": [
    "plt.rc('font',family='Helvetica')\n",
    "plt.rcParams[\"font.size\"] = 20"
   ]
  },
  {
   "cell_type": "markdown",
   "metadata": {},
   "source": [
    "---"
   ]
  },
  {
   "cell_type": "markdown",
   "metadata": {},
   "source": [
    "## Def funcs"
   ]
  },
  {
   "cell_type": "code",
   "execution_count": null,
   "metadata": {
    "collapsed": true
   },
   "outputs": [],
   "source": [
    "def fill_mask_woa(var):\n",
    "    a = var[:,:].copy()\n",
    "    a = a.flatten()\n",
    "\n",
    "    lat = grd_woa.hgrid.lat_rho[:]\n",
    "    lon = grd_woa.hgrid.lon_rho[:]\n",
    "\n",
    "    lat_1d = lat.flatten()\n",
    "    lon_1d = lon.flatten()\n",
    "\n",
    "    lat_1d = ma.masked_where(a.mask,lat_1d)\n",
    "    lon_1d = ma.masked_where(a.mask,lon_1d)\n",
    "\n",
    "    a = a.compressed()\n",
    "    lat_1d = lat_1d.compressed()\n",
    "    lon_1d = lon_1d.compressed()\n",
    "\n",
    "    pts = np.zeros((lat_1d.size,2))\n",
    "\n",
    "    pts[:,0] = lon_1d[:]\n",
    "    pts[:,1] = lat_1d[:]\n",
    "\n",
    "    b = scipy.interpolate.griddata(pts,a,(lon,lat),method='nearest')\n",
    "    \n",
    "    return b"
   ]
  },
  {
   "cell_type": "markdown",
   "metadata": {},
   "source": [
    "---"
   ]
  },
  {
   "cell_type": "markdown",
   "metadata": {},
   "source": [
    "## I/O "
   ]
  },
  {
   "cell_type": "markdown",
   "metadata": {},
   "source": [
    "### Write netCDF"
   ]
  },
  {
   "cell_type": "code",
   "execution_count": null,
   "metadata": {
    "collapsed": true
   },
   "outputs": [],
   "source": [
    "dst_nc00 = netCDF4.Dataset('../data/h025_l045_v001.clm-ecosys-woa.161206.nc','w')\n",
    "dst_nc00.createDimension('ocean_time',12)\n",
    "dst_nc00.createDimension('s_rho',nz)\n",
    "dst_nc00.createDimension('eta_rho',ny)\n",
    "dst_nc00.createDimension('xi_rho',nx)\n",
    "\n",
    "fv = -999.0\n",
    "no3_o = dst_nc00.createVariable('NO3',dtype('float').char,('ocean_time','s_rho','eta_rho','xi_rho'),fill_value=fv)\n",
    "\n",
    "no3_o[:] = nudge[:]\n",
    "\n",
    "dst_nc00.close()"
   ]
  },
  {
   "cell_type": "markdown",
   "metadata": {},
   "source": [
    "### Read netCDF"
   ]
  },
  {
   "cell_type": "code",
   "execution_count": null,
   "metadata": {
    "collapsed": true
   },
   "outputs": [],
   "source": [
    "src_nc00 = netCDF4.Dataset('../data/woa2013v2/woa13_all_no3.nc','r')\n",
    "var = src_nc00.variables['no3'][:,::-1,:,:]\n",
    "src_nc00.close()"
   ]
  },
  {
   "cell_type": "markdown",
   "metadata": {},
   "source": [
    "### list of varnames"
   ]
  },
  {
   "cell_type": "code",
   "execution_count": null,
   "metadata": {
    "collapsed": true
   },
   "outputs": [],
   "source": [
    "for vname,vinfo in src_nc00.variables.iteritems():\n",
    "    print vname, vinfo.shape"
   ]
  },
  {
   "cell_type": "markdown",
   "metadata": {},
   "source": [
    "### Copy dimes and vars from an exisiting file"
   ]
  },
  {
   "cell_type": "code",
   "execution_count": null,
   "metadata": {
    "collapsed": true
   },
   "outputs": [],
   "source": [
    "src_nc01 = netCDF4.Dataset('../data/h025_l045_v001.ini.161108.nc','r')\n",
    "dst_nc00 = netCDF4.Dataset('../data/test.nc','w')\n",
    "vnames = src_nc01.variables.keys()\n",
    "dnames = src_nc01.dimensions.keys()\n",
    "\n",
    "for d in dnames:\n",
    "    x = src_nc01.dimensions.get(d)\n",
    "    dst_nc00.createDimension(x.name,x.size)\n",
    "    \n",
    "fv = -999.0\n",
    "for v in vnames:\n",
    "    x = src_nc01.variables[v]\n",
    "    y = dst_nc00.createVariable(x.name,np.dtype('float').char,(x.dimensions),fill_value=fv)\n",
    "\n",
    "dst_nc00.close()"
   ]
  },
  {
   "cell_type": "markdown",
   "metadata": {},
   "source": [
    "### Glob file list"
   ]
  },
  {
   "cell_type": "code",
   "execution_count": null,
   "metadata": {
    "collapsed": true
   },
   "outputs": [],
   "source": [
    "import glob\n",
    "glob.glob('test/*')"
   ]
  },
  {
   "cell_type": "markdown",
   "metadata": {},
   "source": [
    "## Matplotlib"
   ]
  },
  {
   "cell_type": "code",
   "execution_count": null,
   "metadata": {
    "collapsed": false
   },
   "outputs": [],
   "source": [
    "fig0 = plt.figure(figsize=(7,7))\n",
    "ax0 = fig0.add_subplot(111)\n",
    "ax0.plot(f,-z,'o',label='f')\n",
    "ax0.set_ylim(-5500,0)\n",
    "ax0.set_xlim(0,4)\n",
    "ax0.set_xlabel('f')\n",
    "ax0.set_ylabel('depth')\n",
    "ax0.legend(loc='lower right')\n",
    "ax0.grid()\n",
    "fig0.tight_layout()"
   ]
  },
  {
   "cell_type": "code",
   "execution_count": null,
   "metadata": {
    "collapsed": true
   },
   "outputs": [],
   "source": [
    "savefig('../figs/C_fesed_CESM-Std.png',dpi=200,bbox_inches='tight')"
   ]
  },
  {
   "cell_type": "markdown",
   "metadata": {},
   "source": [
    "---"
   ]
  },
  {
   "cell_type": "markdown",
   "metadata": {},
   "source": [
    "## Basemap"
   ]
  },
  {
   "cell_type": "code",
   "execution_count": null,
   "metadata": {
    "collapsed": true
   },
   "outputs": [],
   "source": [
    "fig0 = plt.figure(figsize=(20,15))\n",
    "\n",
    "lon_mn = np.min(grd_h025.hgrid.lon_vert)\n",
    "lon_mx = np.max(grd_h025.hgrid.lon_vert)\n",
    "lat_mn = np.min(grd_h025.hgrid.lat_vert)\n",
    "lat_mx = np.max(grd_h025.hgrid.lat_vert)\n",
    "\n",
    "v_mn = 0.0\n",
    "v_mx = 3.6\n",
    "\n",
    "ax0 = fig0.add_subplot(111)\n",
    "m0 = Basemap(projection='cyl',llcrnrlat=lat_mn,urcrnrlat=lat_mx,llcrnrlon=lon_mn,urcrnrlon=lon_mx,resolution='c')\n",
    "x,y = m0(grd_h025.hgrid.lon_rho,grd_h025.hgrid.lat_rho)\n",
    "im0 = m0.pcolormesh(x,y,poc_h025[0,:,:],vmin=v_mn,vmax=v_mx)\n",
    "m0.drawcoastlines()\n",
    "cb0 = m0.colorbar(im0,'bottom',size='5%',pad='2%')\n",
    "\n",
    "plt.tight_layout()"
   ]
  },
  {
   "cell_type": "markdown",
   "metadata": {},
   "source": [
    "### Plot POP data"
   ]
  },
  {
   "cell_type": "code",
   "execution_count": null,
   "metadata": {
    "collapsed": true
   },
   "outputs": [],
   "source": [
    "lon2d = np.where(np.greater_equal(lon2d,min(lon2d[:,0])),lon2d-360,lon2d)\n",
    "ep_gx1v6_2=ma.concatenate((ep_gx1v6,ep_gx1v6),axis=2)\n",
    "lon2d_2=ma.concatenate((lon2d,lon2d+360.),axis=1)\n",
    "lat2d_2=ma.concatenate((lat2d,lat2d),axis=1)"
   ]
  },
  {
   "cell_type": "code",
   "execution_count": null,
   "metadata": {
    "collapsed": true
   },
   "outputs": [],
   "source": [
    "def plot2d_gx1v6(var):\n",
    "    src_nc00=netCDF4.Dataset('/Users/misumi/pop_data/gx1v6.concat.nc','r')\n",
    "    tlon=src_nc00.variables['tlon'][:]\n",
    "    tlat=src_nc00.variables['tlat'][:]\n",
    "    vlon=src_nc00.variables['vlon'][:]\n",
    "    vlat=src_nc00.variables['vlat'][:]\n",
    "    src_nc00.close()\n",
    "    \n",
    "    var2=ma.concatenate((var,var),axis=1)\n",
    "    \n",
    "    fig0 = plt.figure(figsize=(20,10))\n",
    "    \n",
    "    lon_mn = 0.0\n",
    "    lon_mx = 360.0\n",
    "    lat_mn = -90.0\n",
    "    lat_mx = 90.0\n",
    "\n",
    "    ax0 = fig0.add_subplot(111)\n",
    "    m0 = Basemap(projection='cyl',llcrnrlat=lat_mn,urcrnrlat=lat_mx,llcrnrlon=lon_mn,urcrnrlon=lon_mx,resolution='c')\n",
    "    x,y = m0(vlon,vlat)\n",
    "    im0 = m0.pcolormesh(x,y,var2)\n",
    "    m0.drawcoastlines()\n",
    "    cb0 = m0.colorbar(im0)\n",
    "\n",
    "    plt.tight_layout()"
   ]
  },
  {
   "cell_type": "markdown",
   "metadata": {},
   "source": [
    "---"
   ]
  },
  {
   "cell_type": "markdown",
   "metadata": {},
   "source": [
    "## Color contour"
   ]
  },
  {
   "cell_type": "markdown",
   "metadata": {},
   "source": [
    "### Set contour levels"
   ]
  },
  {
   "cell_type": "code",
   "execution_count": null,
   "metadata": {
    "collapsed": true
   },
   "outputs": [],
   "source": [
    "levels = ([3.2,5.6,10.0,18.0,32.0,56.0,100.0,180.0,320.0,560.0,1000.0,1800.0,3200.0,5600.0,10000.0])\n",
    "norm = BoundaryNorm(levels, ncolors=cm.N, clip=True)\n",
    "im0 = m0.pcolormesh(x,y,cs137s[cnt,:,:], norm=norm,cmap=cm)"
   ]
  },
  {
   "cell_type": "markdown",
   "metadata": {},
   "source": [
    "### Add mark"
   ]
  },
  {
   "cell_type": "code",
   "execution_count": null,
   "metadata": {
    "collapsed": true
   },
   "outputs": [],
   "source": [
    "xx, yy = m0(lon0,lat0)\n",
    "m0.plot(xx,yy,'ko',ms=10)"
   ]
  },
  {
   "cell_type": "markdown",
   "metadata": {},
   "source": [
    "### Add text"
   ]
  },
  {
   "cell_type": "code",
   "execution_count": null,
   "metadata": {
    "collapsed": true
   },
   "outputs": [],
   "source": [
    "tx,ty = m0(140.1,39.5)\n",
    "ax0.text(tx,ty,'${}^{137}\\mathrm{Cs_{wat}} \\:\\: \\mathrm{Bq \\: m^{-3}}$',va='top',ha='left',fontsize=32)"
   ]
  },
  {
   "cell_type": "markdown",
   "metadata": {},
   "source": [
    "### Define colormap"
   ]
  },
  {
   "cell_type": "code",
   "execution_count": null,
   "metadata": {
    "collapsed": true
   },
   "outputs": [],
   "source": [
    "def generate_cmap(colors):\n",
    "    values = range(len(colors))\n",
    "    vmax = np.ceil(np.max(values))\n",
    "    color_list = []\n",
    "    for v, c in zip(values, colors):\n",
    "        color_list.append( ( v/ vmax, c) )\n",
    "    return LinearSegmentedColormap.from_list('custom_cmap', color_list)"
   ]
  },
  {
   "cell_type": "markdown",
   "metadata": {},
   "source": [
    "#### Usage"
   ]
  },
  {
   "cell_type": "code",
   "execution_count": null,
   "metadata": {
    "collapsed": false
   },
   "outputs": [],
   "source": [
    "cm = generate_cmap(['#ffffff','#6385c5','#6bad40','#eee959','#c04d29'])"
   ]
  },
  {
   "cell_type": "markdown",
   "metadata": {},
   "source": [
    "### Colorbar"
   ]
  },
  {
   "cell_type": "code",
   "execution_count": null,
   "metadata": {
    "collapsed": true
   },
   "outputs": [],
   "source": [
    "cax = fig0.add_axes([0.557, 0.52, 0.02, 0.3])\n",
    "cbar = fig0.colorbar(im0, cax=cax, ticks=[3.2,10.0,32.0,100.0,320.0,1000.0,3200.0,10000.0])\n",
    "cbar.ax.set_yticklabels([3.2,10,32,100,320,1000,3200,10000])"
   ]
  },
  {
   "cell_type": "markdown",
   "metadata": {},
   "source": [
    "---"
   ]
  },
  {
   "cell_type": "markdown",
   "metadata": {},
   "source": [
    "## Datetime"
   ]
  },
  {
   "cell_type": "code",
   "execution_count": null,
   "metadata": {
    "collapsed": true
   },
   "outputs": [],
   "source": [
    "date0 = datetime.datetime(2011,3,1)\n",
    "for n in range(3,30):\n",
    "    dd = date0 + datetime.timedelta(n)\n",
    "    print dd.strftime('%Y/%m/%d')"
   ]
  },
  {
   "cell_type": "markdown",
   "metadata": {},
   "source": [
    "---"
   ]
  },
  {
   "cell_type": "markdown",
   "metadata": {},
   "source": [
    "## Pyroms"
   ]
  },
  {
   "cell_type": "markdown",
   "metadata": {},
   "source": [
    "### Read grids"
   ]
  },
  {
   "cell_type": "code",
   "execution_count": null,
   "metadata": {
    "collapsed": false
   },
   "outputs": [],
   "source": [
    "grd_h025 = pyroms.grid.get_ROMS_grid('h025_l045_v001')"
   ]
  },
  {
   "cell_type": "markdown",
   "metadata": {},
   "source": [
    "---"
   ]
  },
  {
   "cell_type": "markdown",
   "metadata": {},
   "source": [
    "## f2py"
   ]
  },
  {
   "cell_type": "markdown",
   "metadata": {},
   "source": [
    "### FORTRAN (calc_sub.f)"
   ]
  },
  {
   "cell_type": "code",
   "execution_count": null,
   "metadata": {
    "collapsed": true
   },
   "outputs": [],
   "source": [
    "      subroutine calc(b,a,n)\n",
    "      implicit none\n",
    "c\n",
    "      real*8  b(n)\n",
    "      real*8  a(n)\n",
    "      integer n, i\n",
    "\n",
    "Cf2py intent(out) b\n",
    "Cf2py intent(in)  a\n",
    "Cf2py intent(in)  n\n",
    "\n",
    "      do i = 1, n\n",
    "        b(i) = a(i) + 1.0\n",
    "      end do\n",
    "c\n",
    "      return\n",
    "      end"
   ]
  },
  {
   "cell_type": "markdown",
   "metadata": {},
   "source": [
    "### python"
   ]
  },
  {
   "cell_type": "code",
   "execution_count": null,
   "metadata": {
    "collapsed": true
   },
   "outputs": [],
   "source": [
    "import os\n",
    "import numpy as np\n",
    "import numpy.ma as ma\n",
    "import netCDF4\n",
    "from pandas import Series, DataFrame\n",
    "import pandas as pd\n",
    "\n",
    "import calc_sub\n",
    "\n",
    "a = np.random.rand(10000)\n",
    "\n",
    "b = calc_sub.calc(a,10000)\n",
    "\n",
    "for n in range(10000):\n",
    "  print a[n], b[n]"
   ]
  },
  {
   "cell_type": "markdown",
   "metadata": {},
   "source": [
    "---"
   ]
  },
  {
   "cell_type": "markdown",
   "metadata": {},
   "source": [
    "## Format"
   ]
  },
  {
   "cell_type": "code",
   "execution_count": null,
   "metadata": {
    "collapsed": false
   },
   "outputs": [],
   "source": [
    "print \"{0:<10}\".format(\"Hello\") #10文字幅。左寄せ\n",
    "print \"{0:^10}\".format(\"Hello\") #10文字幅。センタリング\n",
    "print \"{0:>10}\".format(\"Hello\") #10文字幅。右寄せ\n",
    "print \"{0:_>10}\".format(\"Hello\") # 詰め文字に_を指定。10文字幅。右寄せ\n",
    "print \"{0:0>6}\".format(123) #前ゼロ埋め"
   ]
  },
  {
   "cell_type": "code",
   "execution_count": null,
   "metadata": {
    "collapsed": false
   },
   "outputs": [],
   "source": [
    "print \"int: {0:d};  hex: {0:X};  oct: {0:o};  bin: {0:b}\".format(42)"
   ]
  },
  {
   "cell_type": "code",
   "execution_count": null,
   "metadata": {
    "collapsed": false
   },
   "outputs": [],
   "source": [
    "print \"{0:,d}\".format(1234567)"
   ]
  },
  {
   "cell_type": "code",
   "execution_count": null,
   "metadata": {
    "collapsed": false
   },
   "outputs": [],
   "source": [
    "print \"{0:.3f}\".format(12.34)"
   ]
  },
  {
   "cell_type": "code",
   "execution_count": null,
   "metadata": {
    "collapsed": false
   },
   "outputs": [],
   "source": [
    "import datetime\n",
    "d = datetime.datetime.now()\n",
    "\"{0:%Y-%m-%d %H:%M:%S}\".format(d)"
   ]
  },
  {
   "cell_type": "markdown",
   "metadata": {},
   "source": [
    "---"
   ]
  },
  {
   "cell_type": "markdown",
   "metadata": {},
   "source": [
    "## Remapping"
   ]
  },
  {
   "cell_type": "code",
   "execution_count": null,
   "metadata": {
    "collapsed": true
   },
   "outputs": [],
   "source": [
    "pyroms.remapping.make_remap_grid_file(grd_h025)"
   ]
  },
  {
   "cell_type": "code",
   "execution_count": null,
   "metadata": {
    "collapsed": true
   },
   "outputs": [],
   "source": [
    "pyroms.remapping.compute_remap_weights(\\\n",
    "                                       grid1_file='../remap/remap_grid_poc_rho.nc',\\\n",
    "                                       grid2_file='../remap/remap_grid_h025_l045_v003_rho.nc',\\\n",
    "                                       interp_file1='../remap/remap_wgt_poc_to_h025_l045_v003_rho.nc',\\\n",
    "                                       interp_file2='N/A', \\\n",
    "                                       map1_name='poc to h025_l045_v002 bilinear', \\\n",
    "                                       map2_name='N/A', \\\n",
    "                                       num_maps='1',\\\n",
    "                                       map_method='bilinear',\\\n",
    "                                       luse_grid1_area='.false.',\\\n",
    "                                       luse_grid2_area='.false.',\\\n",
    "                                       normalize_opt='fracarea',\\\n",
    "                                       output_opt='scrip',\\\n",
    "                                       restrict_type='latitude',\\\n",
    "                                       num_srch_bins='90',\\\n",
    "                                       grid1_periodic='.false.',\\\n",
    "                                       grid2_periodic='.false' )"
   ]
  },
  {
   "cell_type": "code",
   "execution_count": null,
   "metadata": {
    "collapsed": true
   },
   "outputs": [],
   "source": [
    "frac = pyroms.remapping.remap(topo_l[2100:4800,3000:9000],'../remap/remap_wgt_etopo2v2c_to_h025_l045_v002_rho.nc')"
   ]
  },
  {
   "cell_type": "markdown",
   "metadata": {},
   "source": [
    "---"
   ]
  },
  {
   "cell_type": "markdown",
   "metadata": {},
   "source": [
    "## Nearest grid indices in lat lon"
   ]
  },
  {
   "cell_type": "code",
   "execution_count": null,
   "metadata": {
    "collapsed": true
   },
   "outputs": [],
   "source": [
    "def arglatlon(latP,lonP,lat2d,lon2d):\n",
    "    ny,nx=lat2d.shape\n",
    "    lon0=np.zeros((ny,nx))+lonP\n",
    "    lat0=np.zeros((ny,nx))+latP\n",
    "    dlon=np.abs(lon2d-lon0)\n",
    "    dlat=np.abs(lat2d-lat0)\n",
    "    d=np.sqrt(dlon**2+dlat**2)\n",
    "    ind1d=np.argmin(d)\n",
    "    jind=ind1d/nx\n",
    "    iind=ind1d%nx\n",
    "    a=np.array([jind,iind])\n",
    "    return a"
   ]
  },
  {
   "cell_type": "markdown",
   "metadata": {},
   "source": [
    "### example"
   ]
  },
  {
   "cell_type": "code",
   "execution_count": null,
   "metadata": {
    "collapsed": true
   },
   "outputs": [],
   "source": [
    "arglatlon(50.0,210.0,tlat,tlon) # -> returns array[jind,iind]"
   ]
  }
 ],
 "metadata": {
  "kernelspec": {
   "display_name": "Python 2",
   "language": "python",
   "name": "python2"
  },
  "language_info": {
   "codemirror_mode": {
    "name": "ipython",
    "version": 2
   },
   "file_extension": ".py",
   "mimetype": "text/x-python",
   "name": "python",
   "nbconvert_exporter": "python",
   "pygments_lexer": "ipython2",
   "version": "2.7.13"
  }
 },
 "nbformat": 4,
 "nbformat_minor": 1
}
