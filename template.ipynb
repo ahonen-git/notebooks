{
 "cells": [
  {
   "cell_type": "markdown",
   "metadata": {},
   "source": [
    "# Always"
   ]
  },
  {
   "cell_type": "code",
   "execution_count": null,
   "metadata": {
    "collapsed": true
   },
   "outputs": [],
   "source": [
    "%pylab inline"
   ]
  },
  {
   "cell_type": "code",
   "execution_count": null,
   "metadata": {
    "collapsed": true
   },
   "outputs": [],
   "source": [
    "plt.rc('font',family='Helvetica')\n",
    "plt.rcParams[\"font.size\"] = 20"
   ]
  },
  {
   "cell_type": "markdown",
   "metadata": {},
   "source": [
    "## Set nbname and wrkdir"
   ]
  },
  {
   "cell_type": "code",
   "execution_count": null,
   "metadata": {
    "collapsed": true
   },
   "outputs": [],
   "source": [
    "nbname=''\n",
    "wrkdir=''"
   ]
  },
  {
   "cell_type": "markdown",
   "metadata": {},
   "source": [
    "# Matplotlib"
   ]
  },
  {
   "cell_type": "markdown",
   "metadata": {},
   "source": [
    "## Normal plot"
   ]
  },
  {
   "cell_type": "code",
   "execution_count": null,
   "metadata": {
    "collapsed": true
   },
   "outputs": [],
   "source": [
    "fig0 = plt.figure(figsize=(7,7))\n",
    "ax0 = fig0.add_subplot(111)\n",
    "ax0.plot(f,-z,'o',label='f')\n",
    "ax0.set_ylim(-5500,0)\n",
    "ax0.set_xlim(0,4)\n",
    "ax0.set_xlabel('f')\n",
    "ax0.set_ylabel('depth')\n",
    "ax0.legend(loc='lower right',ncol=1)\n",
    "ax0.grid()\n",
    "fig0.tight_layout()\n",
    "savefig('../figs/C_fesed_CESM-Std.png',dpi=200,bbox_inches='tight')"
   ]
  },
  {
   "cell_type": "markdown",
   "metadata": {},
   "source": [
    "## Basemap"
   ]
  },
  {
   "cell_type": "code",
   "execution_count": null,
   "metadata": {
    "collapsed": true
   },
   "outputs": [],
   "source": [
    "fig=plt.figure(figsize=(15,10))\n",
    "\n",
    "lat_mn=-90.0\n",
    "lat_mx=90.0\n",
    "lon_mn=0.0\n",
    "lon_mx=360.0\n",
    "\n",
    "for n in range(12):\n",
    "    ax=fig.add_subplot(4,3,n+1)\n",
    "    # ax.set_title('hoge',loc='left')\n",
    "    m = Basemap(projection='cyl',llcrnrlat=lat_mn,urcrnrlat=lat_mx,llcrnrlon=lon_mn,urcrnrlon=lon_mx,resolution='l')\n",
    "    x,y = m(g0.variables['vlon'],g0.variables['vlat'])\n",
    "    im = m.pcolormesh(x,y,v[n,:,:],vmin=-13.0,vmax=-9.0)\n",
    "    m.drawcoastlines()\n",
    "    n=n+1\n",
    "fig.subplots_adjust(bottom=0.05)\n",
    "cax=fig.add_axes([0.2,0.01,0.6,0.03]) # x_lower_left, y_lower_left, width, height\n",
    "cb=fig.colorbar(im,cax=cax,orientation='horizontal')\n",
    "# cb=m.colorbar() # if colorbar to be fitted on maps\n",
    "plt.tight_layout() # note that tight layout sometimes conflicts with subplots_adjust\n",
    "\n",
    "plt.savefig('figs/fig.png',dpi=300,bbox_inches='tight')"
   ]
  },
  {
   "cell_type": "markdown",
   "metadata": {},
   "source": [
    "## Custom color levels"
   ]
  },
  {
   "cell_type": "code",
   "execution_count": null,
   "metadata": {
    "collapsed": true
   },
   "outputs": [],
   "source": [
    "levels = ([3.2,5.6,10.0,18.0,32.0,56.0,100.0,180.0,320.0,560.0,1000.0,1800.0,3200.0,5600.0,10000.0])\n",
    "norm = BoundaryNorm(levels, ncolors=cm.N, clip=True)\n",
    "im0 = m0.pcolormesh(x,y,cs137s[cnt,:,:], norm=norm,cmap=cm)"
   ]
  },
  {
   "cell_type": "markdown",
   "metadata": {},
   "source": [
    "## Define colormap"
   ]
  },
  {
   "cell_type": "code",
   "execution_count": null,
   "metadata": {
    "collapsed": true
   },
   "outputs": [],
   "source": [
    "from matplotlib.colors import LinearSegmentedColormap\n",
    "def generate_cmap(colors):\n",
    "    values = range(len(colors))\n",
    "    vmax = np.ceil(np.max(values))\n",
    "    color_list = []\n",
    "    for v, c in zip(values, colors):\n",
    "        color_list.append( ( v/ vmax, c) )\n",
    "    return LinearSegmentedColormap.from_list('custom_cmap', color_list)"
   ]
  },
  {
   "cell_type": "markdown",
   "metadata": {},
   "source": [
    "### Usage"
   ]
  },
  {
   "cell_type": "code",
   "execution_count": null,
   "metadata": {
    "collapsed": true
   },
   "outputs": [],
   "source": [
    "cm = generate_cmap(['#ffffff','#6385c5','#6bad40','#eee959','#c04d29'])"
   ]
  },
  {
   "cell_type": "markdown",
   "metadata": {},
   "source": [
    "## Modification of colorbar"
   ]
  },
  {
   "cell_type": "code",
   "execution_count": null,
   "metadata": {
    "collapsed": true
   },
   "outputs": [],
   "source": [
    "cax = fig0.add_axes([0.557, 0.52, 0.02, 0.3])\n",
    "cbar = fig0.colorbar(im0, cax=cax, ticks=[3.2,10.0,32.0,100.0,320.0,1000.0,3200.0,10000.0])\n",
    "cbar.ax.set_yticklabels([3.2,10,32,100,320,1000,3200,10000])"
   ]
  },
  {
   "cell_type": "markdown",
   "metadata": {},
   "source": [
    "## Add mark or text"
   ]
  },
  {
   "cell_type": "code",
   "execution_count": null,
   "metadata": {
    "collapsed": true
   },
   "outputs": [],
   "source": [
    "xx, yy = m0(lon0,lat0)\n",
    "m0.plot(xx,yy,'ko',ms=10)"
   ]
  },
  {
   "cell_type": "code",
   "execution_count": null,
   "metadata": {
    "collapsed": true
   },
   "outputs": [],
   "source": [
    "tx,ty = m0(140.1,39.5)\n",
    "ax0.text(tx,ty,'${}^{137}\\mathrm{Cs_{wat}} \\:\\: \\mathrm{Bq \\: m^{-3}}$',va='top',ha='left',fontsize=32)"
   ]
  },
  {
   "cell_type": "markdown",
   "metadata": {},
   "source": [
    "## Plot POP data"
   ]
  },
  {
   "cell_type": "code",
   "execution_count": null,
   "metadata": {
    "collapsed": true
   },
   "outputs": [],
   "source": [
    "lon2d = np.where(np.greater_equal(lon2d,min(lon2d[:,0])),lon2d-360,lon2d)\n",
    "ep_gx1v6_2=ma.concatenate((ep_gx1v6,ep_gx1v6),axis=2)\n",
    "lon2d_2=ma.concatenate((lon2d,lon2d+360.),axis=1)\n",
    "lat2d_2=ma.concatenate((lat2d,lat2d),axis=1)"
   ]
  },
  {
   "cell_type": "code",
   "execution_count": null,
   "metadata": {
    "collapsed": true
   },
   "outputs": [],
   "source": [
    "src_nc00=netCDF4.Dataset('/Users/misumi/pop_data/gx1v6.concat.nc','r')\n",
    "tlon=src_nc00.variables['tlon'][:]\n",
    "tlat=src_nc00.variables['tlat'][:]\n",
    "vlon=src_nc00.variables['vlon'][:]\n",
    "vlat=src_nc00.variables['vlat'][:]\n",
    "src_nc00.close()\n",
    "\n",
    "var2=ma.concatenate((var,var),axis=1)\n",
    "\n",
    "fig0 = plt.figure(figsize=(20,10))\n",
    "\n",
    "lon_mn = 0.0\n",
    "lon_mx = 360.0\n",
    "lat_mn = -90.0\n",
    "lat_mx = 90.0\n",
    "\n",
    "ax0 = fig0.add_subplot(111)\n",
    "m0 = Basemap(projection='cyl',llcrnrlat=lat_mn,urcrnrlat=lat_mx,llcrnrlon=lon_mn,urcrnrlon=lon_mx,resolution='c')\n",
    "x,y = m0(vlon,vlat)\n",
    "im0 = m0.pcolormesh(x,y,var2)\n",
    "m0.drawcoastlines()\n",
    "cb0 = m0.colorbar(im0)\n",
    "\n",
    "plt.tight_layout()"
   ]
  },
  {
   "cell_type": "markdown",
   "metadata": {},
   "source": [
    "# Pyroms"
   ]
  },
  {
   "cell_type": "markdown",
   "metadata": {},
   "source": [
    "## Grid"
   ]
  },
  {
   "cell_type": "markdown",
   "metadata": {},
   "source": [
    "An example of gridid.txt is in /Users/misumi/roms_data."
   ]
  },
  {
   "cell_type": "code",
   "execution_count": null,
   "metadata": {
    "collapsed": true
   },
   "outputs": [],
   "source": [
    "import os\n",
    "os.environ[\"PYROMS_GRIDID_FILE\"] = \"gridid.txt\""
   ]
  },
  {
   "cell_type": "code",
   "execution_count": null,
   "metadata": {
    "collapsed": true
   },
   "outputs": [],
   "source": [
    "grd_h025 = pyroms.grid.get_ROMS_grid('h025_l045_v001')"
   ]
  },
  {
   "cell_type": "markdown",
   "metadata": {},
   "source": [
    "## Remapping"
   ]
  },
  {
   "cell_type": "markdown",
   "metadata": {},
   "source": [
    "To make the grid infomation files, please refer to work/remap_tools."
   ]
  },
  {
   "cell_type": "code",
   "execution_count": null,
   "metadata": {
    "collapsed": true
   },
   "outputs": [],
   "source": [
    "pyroms.remapping.make_remap_grid_file(grd_h025)"
   ]
  },
  {
   "cell_type": "code",
   "execution_count": null,
   "metadata": {
    "collapsed": true
   },
   "outputs": [],
   "source": [
    "pyroms.remapping.compute_remap_weights(\\\n",
    "     grid1_file='../remap/remap_grid_poc_rho.nc',\\\n",
    "     grid2_file='../remap/remap_grid_h025_l045_v003_rho.nc',\\\n",
    "     interp_file1='../remap/remap_wgt_poc_to_h025_l045_v003_rho.nc',\\\n",
    "     interp_file2='N/A', \\\n",
    "     map1_name='poc to h025_l045_v002 bilinear', \\\n",
    "     map2_name='N/A', \\\n",
    "     num_maps='1',\\\n",
    "     map_method='bilinear',\\\n",
    "     luse_grid1_area='.false.',\\\n",
    "     luse_grid2_area='.false.',\\\n",
    "     normalize_opt='fracarea',\\\n",
    "     output_opt='scrip',\\\n",
    "     restrict_type='latitude',\\\n",
    "     num_srch_bins='90',\\\n",
    "     grid1_periodic='.false.',\\\n",
    "     grid2_periodic='.false' )"
   ]
  },
  {
   "cell_type": "code",
   "execution_count": null,
   "metadata": {
    "collapsed": true
   },
   "outputs": [],
   "source": [
    "frac = pyroms.remapping.remap(topo_l[2100:4800,3000:9000],'../remap/remap_wgt_etopo2v2c_to_h025_l045_v002_rho.nc')"
   ]
  },
  {
   "cell_type": "markdown",
   "metadata": {},
   "source": [
    "# netCDF"
   ]
  },
  {
   "cell_type": "markdown",
   "metadata": {},
   "source": [
    "## write"
   ]
  },
  {
   "cell_type": "markdown",
   "metadata": {},
   "source": [
    "|id     |meaning                |\n",
    "|:------|:----------------------|\n",
    "|'f4'   |32-bit floating point  |\n",
    "|'f8'   |64-bit floating point  |\n",
    "|'i2'   |16-bit signed integer  |\n",
    "|'i4'   |32-bit signed integer  |\n",
    "|'i8'   |64-bit signed integer  |\n",
    "|'u1'   |8-bit unsigned integer |\n",
    "|'u2'   |16-bit unsigned integer|\n",
    "|'u4'   |32-bit unsigned integer|\n",
    "|'u8'   |64-bit unsigned integer|\n",
    "|'S1'   |single character string|"
   ]
  },
  {
   "cell_type": "code",
   "execution_count": null,
   "metadata": {
    "collapsed": true
   },
   "outputs": [],
   "source": [
    "fo0=netCDF4.Dataset('data/vgpm.ep.nc','w')\n",
    "fo0.nbname=nbname\n",
    "fo0.wrkdir=wrkdir\n",
    "\n",
    "fo0.createDimension('ntime',nt)\n",
    "fo0.createDimension('nlat' ,ny)\n",
    "fo0.createDimension('nlon' ,nx)\n",
    "\n",
    "var0_o=fo0.createVariable('lon' ,'f8',('nlat','nlon'))\n",
    "var1_o=fo0.createVariable('lat' ,'f8',('nlat','nlon'))\n",
    "var2_o=fo0.createVariable('ep','f8',('ntime','nlat','nlon'),fill_value=np.nan)\n",
    "var2_o.units='mmol/m2/d'\n",
    "var3_o=fo0.createVariable('ep_org','f8',('ntime','nlat','nlon'),fill_value=np.nan)\n",
    "var3_o.units='mmol/m2/d'\n",
    "\n",
    "var0_o[:]=lon[:]\n",
    "var1_o[:]=lat[:]\n",
    "var2_o[:]=ep[:]\n",
    "var3_o[:]=ep_org[:]\n",
    "\n",
    "fo0.close()"
   ]
  },
  {
   "cell_type": "markdown",
   "metadata": {},
   "source": [
    "## Copy dims and vars"
   ]
  },
  {
   "cell_type": "code",
   "execution_count": null,
   "metadata": {
    "collapsed": true
   },
   "outputs": [],
   "source": [
    "src_nc01 = netCDF4.Dataset('../data/h025_l045_v001.ini.161108.nc','r')\n",
    "dst_nc00 = netCDF4.Dataset('../data/test.nc','w')\n",
    "vnames = src_nc01.variables.keys()\n",
    "dnames = src_nc01.dimensions.keys()\n",
    "\n",
    "for d in dnames:\n",
    "    x = src_nc01.dimensions.get(d)\n",
    "    dst_nc00.createDimension(x.name,x.size)\n",
    "    \n",
    "fv = -999.0\n",
    "for v in vnames:\n",
    "    x = src_nc01.variables[v]\n",
    "    y = dst_nc00.createVariable(x.name,np.dtype('float').char,(x.dimensions),fill_value=fv)\n",
    "\n",
    "dst_nc00.close()"
   ]
  },
  {
   "cell_type": "markdown",
   "metadata": {},
   "source": [
    "# pandas"
   ]
  },
  {
   "cell_type": "code",
   "execution_count": null,
   "metadata": {
    "collapsed": true
   },
   "outputs": [],
   "source": [
    "fe_obs = pd.read_csv('../data/fe_obs.csv')"
   ]
  },
  {
   "cell_type": "code",
   "execution_count": null,
   "metadata": {
    "collapsed": true
   },
   "outputs": [],
   "source": [
    "fe_obs.to_csv('../data/fe_obs_model.csv',header=True,index=False,encoding='utf-8')"
   ]
  },
  {
   "cell_type": "markdown",
   "metadata": {},
   "source": [
    "# Datetime object"
   ]
  },
  {
   "cell_type": "code",
   "execution_count": null,
   "metadata": {
    "collapsed": true
   },
   "outputs": [],
   "source": [
    "date0 = datetime.datetime(2011,3,1)\n",
    "for n in range(3,30):\n",
    "    dd = date0 + datetime.timedelta(n)\n",
    "    print dd.strftime('%Y/%m/%d')"
   ]
  },
  {
   "cell_type": "markdown",
   "metadata": {},
   "source": [
    "# Format"
   ]
  },
  {
   "cell_type": "code",
   "execution_count": null,
   "metadata": {
    "collapsed": true
   },
   "outputs": [],
   "source": [
    "print \"{0:<10}\".format(\"Hello\") #10文字幅。左寄せ\n",
    "print \"{0:^10}\".format(\"Hello\") #10文字幅。センタリング\n",
    "print \"{0:>10}\".format(\"Hello\") #10文字幅。右寄せ\n",
    "print \"{0:_>10}\".format(\"Hello\") # 詰め文字に_を指定。10文字幅。右寄せ\n",
    "print \"{0:0>6}\".format(123) #前ゼロ埋め"
   ]
  },
  {
   "cell_type": "code",
   "execution_count": null,
   "metadata": {
    "collapsed": true
   },
   "outputs": [],
   "source": [
    "print \"{0:,d},{1:.3f}\".format(1234567,12.34)"
   ]
  },
  {
   "cell_type": "code",
   "execution_count": null,
   "metadata": {
    "collapsed": true
   },
   "outputs": [],
   "source": [
    "print \"int: {0:d};  hex: {0:X};  oct: {0:o};  bin: {0:b}\".format(42)"
   ]
  },
  {
   "cell_type": "code",
   "execution_count": null,
   "metadata": {
    "collapsed": true
   },
   "outputs": [],
   "source": [
    "import datetime\n",
    "d = datetime.datetime.now()\n",
    "\"{0:%Y-%m-%d %H:%M:%S}\".format(d)"
   ]
  },
  {
   "cell_type": "markdown",
   "metadata": {},
   "source": [
    "# Multi processing"
   ]
  },
  {
   "cell_type": "code",
   "execution_count": null,
   "metadata": {
    "collapsed": true
   },
   "outputs": [],
   "source": [
    "def func(x,arg0,arg1):\n",
    "    return x+arg0+arg1"
   ]
  },
  {
   "cell_type": "code",
   "execution_count": null,
   "metadata": {
    "collapsed": true
   },
   "outputs": [],
   "source": [
    "import concurrent.futures\n",
    "\n",
    "exe=concurrent.futures.ProcessPoolExecutor(max_workers=16) # Generate instace of executor\n",
    "xlist=[1.0,2.0,3.0]\n",
    "arg0=1.0\n",
    "arg1=2.0\n",
    "mpj={exe.submit(func,x,arg0,arg1): x for x in xlist}       # Mapping jobs, mpj is a dictionary mpj{exe_obj:input_var}\n",
    "out={mpj[j]:j.result() for j in concurrent.futures.as_completed(mpj)} # Storing out{input_var:result}"
   ]
  },
  {
   "cell_type": "markdown",
   "metadata": {},
   "source": [
    "# f2py "
   ]
  },
  {
   "cell_type": "code",
   "execution_count": null,
   "metadata": {
    "collapsed": true
   },
   "outputs": [],
   "source": [
    "import sys\n",
    "sys.path.append('./fortran')"
   ]
  },
  {
   "cell_type": "markdown",
   "metadata": {},
   "source": [
    "## fortran (calc_sub.f)"
   ]
  },
  {
   "cell_type": "code",
   "execution_count": null,
   "metadata": {
    "collapsed": true
   },
   "outputs": [],
   "source": [
    "      subroutine calc(b,a,n)\n",
    "      implicit none\n",
    "c\n",
    "      real*8  b(n)\n",
    "      real*8  a(n)\n",
    "      integer n, i\n",
    "\n",
    "Cf2py intent(out) b\n",
    "Cf2py intent(in)  a\n",
    "Cf2py intent(in)  n\n",
    "\n",
    "      do i = 1, n\n",
    "        b(i) = a(i) + 1.0\n",
    "      end do\n",
    "c\n",
    "      return\n",
    "      end"
   ]
  },
  {
   "cell_type": "markdown",
   "metadata": {},
   "source": [
    "## python"
   ]
  },
  {
   "cell_type": "code",
   "execution_count": null,
   "metadata": {
    "collapsed": true
   },
   "outputs": [],
   "source": [
    "import os\n",
    "import numpy as np\n",
    "import numpy.ma as ma\n",
    "import netCDF4\n",
    "from pandas import Series, DataFrame\n",
    "import pandas as pd\n",
    "\n",
    "import calc_sub\n",
    "\n",
    "a = np.random.rand(10000)\n",
    "\n",
    "b = calc_sub.calc(a,10000)\n",
    "\n",
    "for n in range(10000):\n",
    "  print a[n], b[n]"
   ]
  },
  {
   "cell_type": "markdown",
   "metadata": {},
   "source": [
    "# for libs"
   ]
  },
  {
   "cell_type": "code",
   "execution_count": null,
   "metadata": {
    "collapsed": true
   },
   "outputs": [],
   "source": [
    "import sys\n",
    "def zCal(grd,pos):\n",
    "    gh=grd.hgrid\n",
    "    gv=grd.vgrid\n",
    "    ny,nx=gv.h.shape\n",
    "    if   pos=='rho':\n",
    "        ns=gv.N\n",
    "        s=gv.s_rho\n",
    "        c=gv.Cs_r\n",
    "        m=gh.mask_rho\n",
    "    elif pos=='w':\n",
    "        ns=gv.N+1\n",
    "        s=gv.s_w\n",
    "        c=gv.Cs_w\n",
    "        m=gh.mask_rho\n",
    "    else:\n",
    "        sys.exit()\n",
    "    ary=np.zeros((ns,ny,nx))\n",
    "    hc=ary+gv.hc\n",
    "    s=ary.swapaxes(0,2)+s\n",
    "    s=s.swapaxes(0,2)\n",
    "    h=ary+gv.h\n",
    "    c=ary.swapaxes(0,2)+c\n",
    "    c=c.swapaxes(0,2)\n",
    "    S=(hc*s+h*c)/(hc+h)\n",
    "    z=S*h\n",
    "    m=ary+m\n",
    "    z=ma.masked_where(m==0,z)\n",
    "    return z"
   ]
  },
  {
   "cell_type": "code",
   "execution_count": null,
   "metadata": {
    "collapsed": true
   },
   "outputs": [],
   "source": []
  }
 ],
 "metadata": {
  "kernelspec": {
   "display_name": "Python 2",
   "language": "python",
   "name": "python2"
  },
  "language_info": {
   "codemirror_mode": {
    "name": "ipython",
    "version": 2
   },
   "file_extension": ".py",
   "mimetype": "text/x-python",
   "name": "python",
   "nbconvert_exporter": "python",
   "pygments_lexer": "ipython2",
   "version": "2.7.13"
  },
  "toc": {
   "colors": {
    "hover_highlight": "#DAA520",
    "running_highlight": "#FF0000",
    "selected_highlight": "#FFD700"
   },
   "moveMenuLeft": true,
   "nav_menu": {
    "height": "120px",
    "width": "252px"
   },
   "navigate_menu": true,
   "number_sections": false,
   "sideBar": true,
   "threshold": 4,
   "toc_cell": false,
   "toc_section_display": "block",
   "toc_window_display": true,
   "widenNotebook": false
  }
 },
 "nbformat": 4,
 "nbformat_minor": 2
}
