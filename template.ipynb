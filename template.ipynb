{
 "cells": [
  {
   "cell_type": "markdown",
   "metadata": {},
   "source": [
    "# Title"
   ]
  },
  {
   "cell_type": "markdown",
   "metadata": {},
   "source": [
    "## Load libraries"
   ]
  },
  {
   "cell_type": "code",
   "execution_count": null,
   "metadata": {
    "collapsed": false
   },
   "outputs": [],
   "source": [
    "%pylab inline"
   ]
  },
  {
   "cell_type": "code",
   "execution_count": null,
   "metadata": {
    "collapsed": false
   },
   "outputs": [],
   "source": [
    "import os\n",
    "import _iso\n",
    "import numpy as np\n",
    "import numpy.ma as ma\n",
    "from mpl_toolkits.basemap import Basemap, shiftgrid\n",
    "from matplotlib.mlab import griddata\n",
    "import matplotlib.colors as colors\n",
    "from scipy.signal import medfilt2d\n",
    "import netCDF4\n",
    "import scipy.interpolate\n",
    "from pandas import Series, DataFrame\n",
    "import pandas as pd\n",
    "\n",
    "import pyroms\n",
    "import pyroms_toolbox\n",
    "from bathy_smoother import *"
   ]
  },
  {
   "cell_type": "code",
   "execution_count": null,
   "metadata": {
    "collapsed": true
   },
   "outputs": [],
   "source": [
    "os.environ[\"PYTHONPATH\"] = \"/Users/misumi:/usr/local/lib/python2.7/site-packages\"\n",
    "os.environ[\"PYROMS\"] = \"$PYTHONPATH/pyroms\"\n",
    "os.environ[\"PYROMS_GRIDID_FILE\"] = \"/Users/misumi/roms_data/gridid.txt\""
   ]
  },
  {
   "cell_type": "markdown",
   "metadata": {},
   "source": [
    "## Def funcs"
   ]
  },
  {
   "cell_type": "code",
   "execution_count": null,
   "metadata": {
    "collapsed": true
   },
   "outputs": [],
   "source": [
    "def remap_woa_to_h025(var):\n",
    "    rmp_file = 'remap_woa_to_h025_l045_v001_bilin.nc'\n",
    "    #var_out = pyroms.remapping.remap(var[:,1:,1:].copy(),rmp_file,spval=np.nan)\n",
    "    var_out = pyroms.remapping.remap(var[:,:,:].copy(),rmp_file,spval=np.nan)\n",
    "    return var_out"
   ]
  },
  {
   "cell_type": "code",
   "execution_count": null,
   "metadata": {
    "collapsed": true
   },
   "outputs": [],
   "source": [
    "def fill_mask_woa(var):\n",
    "    a = var[:,:].copy()\n",
    "    a = a.flatten()\n",
    "\n",
    "    lat = grd_woa.hgrid.lat_rho[:]\n",
    "    lon = grd_woa.hgrid.lon_rho[:]\n",
    "\n",
    "    lat_1d = lat.flatten()\n",
    "    lon_1d = lon.flatten()\n",
    "\n",
    "    lat_1d = ma.masked_where(a.mask,lat_1d)\n",
    "    lon_1d = ma.masked_where(a.mask,lon_1d)\n",
    "\n",
    "    a = a.compressed()\n",
    "    lat_1d = lat_1d.compressed()\n",
    "    lon_1d = lon_1d.compressed()\n",
    "\n",
    "    pts = np.zeros((lat_1d.size,2))\n",
    "\n",
    "    pts[:,0] = lon_1d[:]\n",
    "    pts[:,1] = lat_1d[:]\n",
    "\n",
    "    b = scipy.interpolate.griddata(pts,a,(lon,lat),method='nearest')\n",
    "    \n",
    "    return b"
   ]
  },
  {
   "cell_type": "markdown",
   "metadata": {},
   "source": [
    "## Read grids"
   ]
  },
  {
   "cell_type": "code",
   "execution_count": null,
   "metadata": {
    "collapsed": false
   },
   "outputs": [],
   "source": [
    "grd_woa = pyroms.grid.get_ROMS_grid('woa_an')\n",
    "grd_h025 = pyroms.grid.get_ROMS_grid('h025_l045_v001')\n",
    "grd_h025_z = pyroms.grid.get_ROMS_grid('h025_l045_v001_woa_z')"
   ]
  },
  {
   "cell_type": "markdown",
   "metadata": {},
   "source": [
    "## For write"
   ]
  },
  {
   "cell_type": "code",
   "execution_count": null,
   "metadata": {
    "collapsed": true
   },
   "outputs": [],
   "source": [
    "dst_nc00 = netCDF4.Dataset('../data/h025_l045_v001.clm-ecosys-woa.161206.nc','w')\n",
    "dst_nc00.createDimension('ocean_time',12)\n",
    "dst_nc00.createDimension('s_rho',nz)\n",
    "dst_nc00.createDimension('eta_rho',ny)\n",
    "dst_nc00.createDimension('xi_rho',nx)\n",
    "\n",
    "fv = -999.0\n",
    "no3_o = dst_nc00.createVariable('NO3',dtype('float').char,('ocean_time','s_rho','eta_rho','xi_rho'),fill_value=fv)"
   ]
  },
  {
   "cell_type": "code",
   "execution_count": null,
   "metadata": {
    "collapsed": true
   },
   "outputs": [],
   "source": [
    "no3_o[:] = nudge[:]"
   ]
  },
  {
   "cell_type": "code",
   "execution_count": null,
   "metadata": {
    "collapsed": true
   },
   "outputs": [],
   "source": [
    "dst_nc00.close()"
   ]
  },
  {
   "cell_type": "markdown",
   "metadata": {},
   "source": [
    "### Copy dimes and vars from an exisiting file"
   ]
  },
  {
   "cell_type": "code",
   "execution_count": null,
   "metadata": {
    "collapsed": true
   },
   "outputs": [],
   "source": [
    "src_nc01 = netCDF4.Dataset('../data/h025_l045_v001.ini.161108.nc','r')\n",
    "dst_nc00 = netCDF4.Dataset('../data/test.nc','w')\n",
    "vnames = src_nc01.variables.keys()\n",
    "dnames = src_nc01.dimensions.keys()\n",
    "\n",
    "for d in dnames:\n",
    "    x = src_nc01.dimensions.get(d)\n",
    "    dst_nc00.createDimension(x.name,x.size)\n",
    "    \n",
    "fv = -999.0\n",
    "for v in vnames:\n",
    "    x = src_nc01.variables[v]\n",
    "    y = dst_nc00.createVariable(x.name,np.dtype('float').char,(x.dimensions),fill_value=fv)\n",
    "\n",
    "dst_nc00.close()"
   ]
  },
  {
   "cell_type": "markdown",
   "metadata": {},
   "source": [
    "## For read"
   ]
  },
  {
   "cell_type": "code",
   "execution_count": null,
   "metadata": {
    "collapsed": true
   },
   "outputs": [],
   "source": [
    "src_nc00 = netCDF4.Dataset('../data/woa2013v2/woa13_all_no3.nc','r')\n",
    "var = src_nc00.variables['no3'][:,::-1,:,:]\n",
    "src_nc00.close()"
   ]
  },
  {
   "cell_type": "markdown",
   "metadata": {},
   "source": [
    "## Basemap"
   ]
  },
  {
   "cell_type": "code",
   "execution_count": null,
   "metadata": {
    "collapsed": true
   },
   "outputs": [],
   "source": [
    "fig0 = plt.figure(figsize=(20,15))\n",
    "\n",
    "vmx = 30.\n",
    "vmn = 0.\n",
    "\n",
    "ax0 = fig0.add_subplot(221)\n",
    "m0 = Basemap(projection='cyl',llcrnrlat=-90,urcrnrlat=90,\\\n",
    "            llcrnrlon=0,urcrnrlon=360,resolution='c')\n",
    "x,y = m0(grd_woa.hgrid.lon_rho,grd_woa.hgrid.lat_rho)\n",
    "im0 = m0.pcolor(x,y,var[0,-1,:,:],vmin=vmn,vmax=vmx)\n",
    "m0.drawcoastlines()\n",
    "cb0 = m0.colorbar(im0,'bottom',size='5%',pad='2%')\n",
    "\n",
    "ax1 = fig0.add_subplot(222)\n",
    "m1 = Basemap(projection='cyl',llcrnrlat=-90,urcrnrlat=90,\\\n",
    "            llcrnrlon=0,urcrnrlon=360,resolution='c')\n",
    "im1 = m1.pcolor(x,y,var[3,-1,:,:],vmin=vmn,vmax=vmx)\n",
    "m1.drawcoastlines()\n",
    "cb1 = m1.colorbar(im1,'bottom',size='5%',pad='2%')\n",
    "\n",
    "ax2 = fig0.add_subplot(223)\n",
    "m2 = Basemap(projection='cyl',llcrnrlat=-90,urcrnrlat=90,\\\n",
    "            llcrnrlon=0,urcrnrlon=360,resolution='c')\n",
    "im2 = m2.pcolor(x,y,var[6,-1,:,:],vmin=vmn,vmax=vmx)\n",
    "m2.drawcoastlines()\n",
    "cb2 = m2.colorbar(im2,'bottom',size='5%',pad='2%')\n",
    "\n",
    "ax3 = fig0.add_subplot(224)\n",
    "m3 = Basemap(projection='cyl',llcrnrlat=-90,urcrnrlat=90,\\\n",
    "            llcrnrlon=0,urcrnrlon=360,resolution='c')\n",
    "im3 = m2.pcolor(x,y,var[9,-1,:,:],vmin=vmn,vmax=vmx)\n",
    "m3.drawcoastlines()\n",
    "cb3 = m3.colorbar(im2,'bottom',size='5%',pad='2%')\n",
    "\n",
    "plt.tight_layout()"
   ]
  }
 ],
 "metadata": {
  "kernelspec": {
   "display_name": "Python 2",
   "language": "python",
   "name": "python2"
  },
  "language_info": {
   "codemirror_mode": {
    "name": "ipython",
    "version": 2
   },
   "file_extension": ".py",
   "mimetype": "text/x-python",
   "name": "python",
   "nbconvert_exporter": "python",
   "pygments_lexer": "ipython2",
   "version": "2.7.12"
  }
 },
 "nbformat": 4,
 "nbformat_minor": 1
}
