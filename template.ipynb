{
 "cells": [
  {
   "cell_type": "markdown",
   "metadata": {},
   "source": [
    "# Python template"
   ]
  },
  {
   "cell_type": "markdown",
   "metadata": {},
   "source": [
    "## Load libraries"
   ]
  },
  {
   "cell_type": "code",
   "execution_count": null,
   "metadata": {
    "collapsed": false
   },
   "outputs": [],
   "source": [
    "%pylab inline\n",
    "\n",
    "import os\n",
    "import _iso\n",
    "import numpy as np\n",
    "import numpy.ma as ma\n",
    "from mpl_toolkits.basemap import Basemap, shiftgrid\n",
    "from matplotlib.mlab import griddata\n",
    "import matplotlib.colors as colors\n",
    "from scipy.signal import medfilt2d\n",
    "import netCDF4\n",
    "import scipy.interpolate\n",
    "from pandas import Series, DataFrame\n",
    "import pandas as pd\n",
    "\n",
    "import pyroms\n",
    "import pyroms_toolbox\n",
    "from bathy_smoother import *\n",
    "\n",
    "os.environ[\"PYTHONPATH\"] = \"/Users/misumi:/usr/local/lib/python2.7/site-packages\"\n",
    "os.environ[\"PYROMS\"] = \"$PYTHONPATH/pyroms\"\n",
    "os.environ[\"PYROMS_GRIDID_FILE\"] = \"/Users/misumi/roms_data/gridid.txt\""
   ]
  },
  {
   "cell_type": "markdown",
   "metadata": {},
   "source": [
    "## Set font"
   ]
  },
  {
   "cell_type": "code",
   "execution_count": null,
   "metadata": {
    "collapsed": true
   },
   "outputs": [],
   "source": [
    "plt.rc('font',family='Helvetica')\n",
    "plt.rcParams[\"font.size\"] = 20"
   ]
  },
  {
   "cell_type": "markdown",
   "metadata": {},
   "source": [
    "---"
   ]
  },
  {
   "cell_type": "markdown",
   "metadata": {},
   "source": [
    "## Def funcs"
   ]
  },
  {
   "cell_type": "code",
   "execution_count": null,
   "metadata": {
    "collapsed": true
   },
   "outputs": [],
   "source": [
    "def fill_mask_woa(var):\n",
    "    a = var[:,:].copy()\n",
    "    a = a.flatten()\n",
    "\n",
    "    lat = grd_woa.hgrid.lat_rho[:]\n",
    "    lon = grd_woa.hgrid.lon_rho[:]\n",
    "\n",
    "    lat_1d = lat.flatten()\n",
    "    lon_1d = lon.flatten()\n",
    "\n",
    "    lat_1d = ma.masked_where(a.mask,lat_1d)\n",
    "    lon_1d = ma.masked_where(a.mask,lon_1d)\n",
    "\n",
    "    a = a.compressed()\n",
    "    lat_1d = lat_1d.compressed()\n",
    "    lon_1d = lon_1d.compressed()\n",
    "\n",
    "    pts = np.zeros((lat_1d.size,2))\n",
    "\n",
    "    pts[:,0] = lon_1d[:]\n",
    "    pts[:,1] = lat_1d[:]\n",
    "\n",
    "    b = scipy.interpolate.griddata(pts,a,(lon,lat),method='nearest')\n",
    "    \n",
    "    return b"
   ]
  },
  {
   "cell_type": "markdown",
   "metadata": {},
   "source": [
    "---"
   ]
  },
  {
   "cell_type": "markdown",
   "metadata": {},
   "source": [
    "## I/O "
   ]
  },
  {
   "cell_type": "markdown",
   "metadata": {},
   "source": [
    "### Write netCDF"
   ]
  },
  {
   "cell_type": "code",
   "execution_count": null,
   "metadata": {
    "collapsed": true
   },
   "outputs": [],
   "source": [
    "dst_nc00 = netCDF4.Dataset('../data/h025_l045_v001.clm-ecosys-woa.161206.nc','w')\n",
    "dst_nc00.createDimension('ocean_time',12)\n",
    "dst_nc00.createDimension('s_rho',nz)\n",
    "dst_nc00.createDimension('eta_rho',ny)\n",
    "dst_nc00.createDimension('xi_rho',nx)\n",
    "\n",
    "fv = -999.0\n",
    "no3_o = dst_nc00.createVariable('NO3',dtype('float').char,('ocean_time','s_rho','eta_rho','xi_rho'),fill_value=fv)\n",
    "\n",
    "no3_o[:] = nudge[:]\n",
    "\n",
    "dst_nc00.close()"
   ]
  },
  {
   "cell_type": "markdown",
   "metadata": {},
   "source": [
    "### Read netCDF"
   ]
  },
  {
   "cell_type": "code",
   "execution_count": null,
   "metadata": {
    "collapsed": true
   },
   "outputs": [],
   "source": [
    "src_nc00 = netCDF4.Dataset('../data/woa2013v2/woa13_all_no3.nc','r')\n",
    "var = src_nc00.variables['no3'][:,::-1,:,:]\n",
    "src_nc00.close()"
   ]
  },
  {
   "cell_type": "markdown",
   "metadata": {},
   "source": [
    "### Copy dimes and vars from an exisiting file"
   ]
  },
  {
   "cell_type": "code",
   "execution_count": null,
   "metadata": {
    "collapsed": true
   },
   "outputs": [],
   "source": [
    "src_nc01 = netCDF4.Dataset('../data/h025_l045_v001.ini.161108.nc','r')\n",
    "dst_nc00 = netCDF4.Dataset('../data/test.nc','w')\n",
    "vnames = src_nc01.variables.keys()\n",
    "dnames = src_nc01.dimensions.keys()\n",
    "\n",
    "for d in dnames:\n",
    "    x = src_nc01.dimensions.get(d)\n",
    "    dst_nc00.createDimension(x.name,x.size)\n",
    "    \n",
    "fv = -999.0\n",
    "for v in vnames:\n",
    "    x = src_nc01.variables[v]\n",
    "    y = dst_nc00.createVariable(x.name,np.dtype('float').char,(x.dimensions),fill_value=fv)\n",
    "\n",
    "dst_nc00.close()"
   ]
  },
  {
   "cell_type": "markdown",
   "metadata": {},
   "source": [
    "---"
   ]
  },
  {
   "cell_type": "markdown",
   "metadata": {},
   "source": [
    "## Basemap"
   ]
  },
  {
   "cell_type": "code",
   "execution_count": null,
   "metadata": {
    "collapsed": true
   },
   "outputs": [],
   "source": [
    "fig0 = plt.figure(figsize=(20,15))\n",
    "\n",
    "vmx = 30.\n",
    "vmn = 0.\n",
    "\n",
    "ax0 = fig0.add_subplot(111)\n",
    "m0 = Basemap(projection='cyl',llcrnrlat=-90,urcrnrlat=90,llcrnrlon=0,urcrnrlon=360,resolution='c')\n",
    "x,y = m0(grd_woa.hgrid.lon_rho,grd_woa.hgrid.lat_rho)\n",
    "im0 = m0.pcolor(x,y,var[0,-1,:,:],vmin=vmn,vmax=vmx)\n",
    "m0.drawcoastlines()\n",
    "cb0 = m0.colorbar(im0,'bottom',size='5%',pad='2%')\n",
    "\n",
    "plt.tight_layout()"
   ]
  },
  {
   "cell_type": "markdown",
   "metadata": {},
   "source": [
    "### Set contour levels"
   ]
  },
  {
   "cell_type": "code",
   "execution_count": null,
   "metadata": {
    "collapsed": true
   },
   "outputs": [],
   "source": [
    "levels = ([3.2,5.6,10.0,18.0,32.0,56.0,100.0,180.0,320.0,560.0,1000.0,1800.0,3200.0,5600.0,10000.0])\n",
    "norm = BoundaryNorm(levels, ncolors=cm.N, clip=True)\n",
    "im0 = m0.pcolormesh(x,y,cs137s[cnt,:,:], norm=norm,cmap=cm)"
   ]
  },
  {
   "cell_type": "markdown",
   "metadata": {},
   "source": [
    "### Add mark"
   ]
  },
  {
   "cell_type": "code",
   "execution_count": null,
   "metadata": {
    "collapsed": true
   },
   "outputs": [],
   "source": [
    "xx, yy = m0(lon0,lat0)\n",
    "m0.plot(xx,yy,'ko',ms=10)"
   ]
  },
  {
   "cell_type": "markdown",
   "metadata": {},
   "source": [
    "### Add text"
   ]
  },
  {
   "cell_type": "code",
   "execution_count": null,
   "metadata": {
    "collapsed": true
   },
   "outputs": [],
   "source": [
    "tx,ty = m0(140.1,39.5)\n",
    "ax0.text(tx,ty,'${}^{137}\\mathrm{Cs_{wat}} \\:\\: \\mathrm{Bq \\: m^{-3}}$',va='top',ha='left',fontsize=32)"
   ]
  },
  {
   "cell_type": "markdown",
   "metadata": {},
   "source": [
    "### Define colormap"
   ]
  },
  {
   "cell_type": "code",
   "execution_count": null,
   "metadata": {
    "collapsed": true
   },
   "outputs": [],
   "source": [
    "def generate_cmap(colors):\n",
    "    values = range(len(colors))\n",
    "    vmax = np.ceil(np.max(values))\n",
    "    color_list = []\n",
    "    for v, c in zip(values, colors):\n",
    "        color_list.append( ( v/ vmax, c) )\n",
    "    return LinearSegmentedColormap.from_list('custom_cmap', color_list)"
   ]
  },
  {
   "cell_type": "markdown",
   "metadata": {},
   "source": [
    "#### Usage"
   ]
  },
  {
   "cell_type": "code",
   "execution_count": null,
   "metadata": {
    "collapsed": false
   },
   "outputs": [],
   "source": [
    "cm = generate_cmap(['#ffffff','#6385c5','#6bad40','#eee959','#c04d29'])"
   ]
  },
  {
   "cell_type": "markdown",
   "metadata": {},
   "source": [
    "---"
   ]
  },
  {
   "cell_type": "markdown",
   "metadata": {},
   "source": [
    "## Pyroms"
   ]
  },
  {
   "cell_type": "markdown",
   "metadata": {},
   "source": [
    "### Read grids"
   ]
  },
  {
   "cell_type": "code",
   "execution_count": null,
   "metadata": {
    "collapsed": false
   },
   "outputs": [],
   "source": [
    "grd_woa = pyroms.grid.get_ROMS_grid('woa_an')\n",
    "grd_h025 = pyroms.grid.get_ROMS_grid('h025_l045_v001')\n",
    "grd_h025_z = pyroms.grid.get_ROMS_grid('h025_l045_v001_woa_z')"
   ]
  }
 ],
 "metadata": {
  "kernelspec": {
   "display_name": "Python 2",
   "language": "python",
   "name": "python2"
  },
  "language_info": {
   "codemirror_mode": {
    "name": "ipython",
    "version": 2
   },
   "file_extension": ".py",
   "mimetype": "text/x-python",
   "name": "python",
   "nbconvert_exporter": "python",
   "pygments_lexer": "ipython2",
   "version": "2.7.12"
  }
 },
 "nbformat": 4,
 "nbformat_minor": 1
}
